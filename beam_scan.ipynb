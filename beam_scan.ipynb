{
 "cells": [
  {
   "cell_type": "code",
   "execution_count": 1,
   "metadata": {},
   "outputs": [],
   "source": [
    "from beam_processing import extract\n"
   ]
  }
 ],
 "metadata": {
  "interpreter": {
   "hash": "26326f56ca2485c94853d784556ce2285de05fb98c4accfc9c201619f28a851e"
  },
  "kernelspec": {
   "display_name": "Python 3.10.2 ('env')",
   "language": "python",
   "name": "python3"
  },
  "language_info": {
   "codemirror_mode": {
    "name": "ipython",
    "version": 3
   },
   "file_extension": ".py",
   "mimetype": "text/x-python",
   "name": "python",
   "nbconvert_exporter": "python",
   "pygments_lexer": "ipython3",
   "version": "3.10.2"
  },
  "orig_nbformat": 4
 },
 "nbformat": 4,
 "nbformat_minor": 2
}
